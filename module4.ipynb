{
 "cells": [
  {
   "cell_type": "markdown",
   "metadata": {},
   "source": [
    "# Модуль 4. Библиотеки Python"
   ]
  },
  {
   "cell_type": "markdown",
   "metadata": {},
   "source": [
    "## Стандартная библиотека\n",
    "    math, random, datetime, turtle, tkinter, os, pickle, re, smtplib, itertools, functools"
   ]
  },
  {
   "cell_type": "markdown",
   "metadata": {},
   "source": [
    "#### math: обзор"
   ]
  },
  {
   "cell_type": "code",
   "execution_count": null,
   "metadata": {},
   "outputs": [],
   "source": [
    "import math\n",
    "\n",
    "print('Длина окружности радиуса 10:', 2 * math.pi * 10)\n",
    "\n",
    "print('Округленная вниз длина окружности радиуса 10:', math.floor(2 * math.pi * 10))\n",
    "\n",
    "print('Округленная вверх длина окружности радиуса 10:', math.ceil(2 * math.pi * 10))\n",
    "\n",
    "print('катеты 3, 4, гипотенуза:',math.hypot(3, 4))\n",
    "\n",
    "alpha = math.degrees(math.pi / 4)\n",
    "print(alpha)\n",
    "print('Проверим основное тригонометрическое тождество:')\n",
    "print(math.pow(math.sin(alpha), 2) + math.pow(math.cos(alpha), 2))\n",
    "\n",
    "print('НОД 15 и 168:', math.gcd(15, 168))\n",
    "\n",
    "print('факториал 15:', math.factorial(15))\n",
    "\n",
    "print(math.inf == float('inf'))"
   ]
  },
  {
   "cell_type": "markdown",
   "metadata": {},
   "source": [
    "#### turtle: Введение"
   ]
  },
  {
   "cell_type": "code",
   "execution_count": 17,
   "metadata": {},
   "outputs": [],
   "source": [
    "import turtle\n",
    "\n",
    "screen = turtle.Screen()\n",
    "screen.setup(600, 900, 100, 100)\n",
    "\n",
    "boba = turtle.Turtle()\n",
    "boba.setheading(90)\n",
    "boba.circle(100, 180, 6)\n",
    "boba.dot(10, 'red')\n",
    "boba.circle(100, 180, 6)\n",
    "boba.circle(-100, 180, 6)\n",
    "boba.dot(10, 'red')\n",
    "boba.circle(-100, 180, 6)\n",
    "\n",
    "boba.up()\n",
    "boba.speed(8)\n",
    "boba.goto(-100, 100)\n",
    "boba.shape('circle')\n",
    "boba.color('yellow')\n",
    "pos = boba.position()\n",
    "for i in range(5):\n",
    "    for j in range(5):\n",
    "        boba.stamp()\n",
    "        boba.goto(pos + turtle.Vec2D(i * 50, -j * 50))\n",
    "boba.stamp()\n",
    "boba.home()\n",
    "boba.color('green')\n",
    "\n",
    "while boba.shapesize() < (4, 2, 1):\n",
    "    a, b, c = boba.shapesize()\n",
    "    boba.shapesize(a + 0.1, b + 0.1, c)\n",
    "\n",
    "boba.seth(90)\n",
    "screen.delay(100)\n",
    "\n",
    "for i in range(5):\n",
    "    factor = boba.shearfactor() - i/5\n",
    "    boba.shearfactor(factor)\n",
    "\n",
    "\n",
    "for i in range(5):\n",
    "    factor = boba.shearfactor() + i/5\n",
    "    boba.shearfactor(factor)\n",
    "\n",
    "screen.mainloop()"
   ]
  },
  {
   "cell_type": "markdown",
   "metadata": {},
   "source": [
    "#### turtle: Проекты\n",
    "* [Теннис-черепашка](https://gist.github.com/ConstLebedev/8033f511c23bdc7f81099cc7bce0224a)\n",
    "* [Змейка-черепашка](https://gist.github.com/ConstLebedev/1c6f92cbd65e90eb292879293a1f8099)"
   ]
  },
  {
   "cell_type": "markdown",
   "metadata": {},
   "source": [
    "#### tk: Календарь на каждый месяц"
   ]
  },
  {
   "cell_type": "code",
   "execution_count": null,
   "metadata": {},
   "outputs": [],
   "source": [
    "from tkinter import *\n",
    "import calendar\n",
    "import datetime\n",
    "\n",
    "\n",
    "root = Tk()\n",
    "root.title('Calendar')\n",
    "days = []\n",
    "now = datetime.datetime.now()\n",
    "year = now.year\n",
    "month = now.month\n",
    "\n",
    "def prev():\n",
    "    global month, year\n",
    "    month -= 1\n",
    "    if month == 0:\n",
    "        month = 12\n",
    "        year -= 1\n",
    "    fill()\n",
    "\n",
    "def next():\n",
    "    global month, year\n",
    "    month += 1\n",
    "    if month == 13:\n",
    "        month = 1\n",
    "        year += 1\n",
    "    fill()\n",
    "\n",
    "def fill():\n",
    "    info_label['text'] = calendar.month_name[month] + ', ' + str(year)\n",
    "    month_days = calendar.monthrange(year, month)[1]\n",
    "    if month == 1:\n",
    "        prew_month_days = calendar.monthrange(year-1, 12)[1]\n",
    "    else:\n",
    "        prew_month_days = calendar.monthrange(year, month - 1)[1]\n",
    "    week_day = calendar.monthrange(year, month)[0]\n",
    "    for n in range(month_days):\n",
    "        days[n + week_day]['text'] = n+1\n",
    "        days[n + week_day]['fg'] = 'black'\n",
    "        if year == now.year and month == now.month and n == now.day:\n",
    "            days[n + week_day]['background'] = 'green'\n",
    "        else:\n",
    "            days[n + week_day]['background'] = 'lightgray'\n",
    "    for n in range(week_day):\n",
    "        days[week_day - n - 1]['text'] = prew_month_days - n\n",
    "        days[week_day - n - 1]['fg'] = 'gray'\n",
    "        days[week_day - n - 1]['background'] = '#f3f3f3'\n",
    "    for n in range(6*7 - month_days - week_day):\n",
    "        days[week_day + month_days + n]['text'] = n+1\n",
    "        days[week_day + month_days + n]['fg'] = 'gray'\n",
    "        days[week_day + month_days + n]['background'] = '#f3f3f3'\n",
    "\n",
    "\n",
    "prew_button = Button(root, text='<', command=prev)\n",
    "prew_button.grid(row=0, column=0, sticky='nsew')\n",
    "next_button = Button(root, text='>', command=next)\n",
    "next_button.grid(row=0, column=6, sticky='nsew')\n",
    "info_label = Label(root, text='0', width=1, height=1,\n",
    "            font=('Verdana', 16, 'bold'), fg='blue')\n",
    "info_label.grid(row=0, column=1, columnspan=5, sticky='nsew')\n",
    "\n",
    "for n in range(7):\n",
    "    lbl = Label(root, text=calendar.day_abbr[n], width=1, height=1,\n",
    "                font=('Verdana', 10, 'normal'), fg='darkblue')\n",
    "    lbl.grid(row=1, column=n, sticky='nsew')\n",
    "for row in range(6):\n",
    "    for col in range(7):\n",
    "        lbl = Label(root, text='0', width=4, height=2,\n",
    "                    font=('Verdana', 16, 'bold'))\n",
    "        lbl.grid(row=row+2, column=col, sticky='nsew')\n",
    "        days.append(lbl)\n",
    "fill()\n",
    "root.mainloop()"
   ]
  },
  {
   "cell_type": "markdown",
   "metadata": {},
   "source": [
    "#### tk: 2048\n",
    "[2048 game](https://gist.github.com/ConstLebedev/c03c93d248f896e7f22bc0be0ae0d3a5)"
   ]
  },
  {
   "cell_type": "markdown",
   "metadata": {},
   "source": [
    "#### re: Телефоны по стандарту\n",
    "Если вы когда-нибудь пытались собирать номера мобильных телефонов, то наверняка знаете, что почти любые 10 человек \n",
    "используют как минимум пяток различных способов записать номер телефона. Кто-то начинает с +7, кто-то просто с 7 или 8,\n",
    "а некоторые вообще не пишут префикс. Трёхзначный код кто-то отделяет пробелами, кто-то при помощи дефиса, кто-то скобками \n",
    "(и после скобки ещё пробел некоторые добавляют). После следующих трёх цифр кто-то ставит пробел, кто-то дефис, кто-то \n",
    "ничего не ставит. И после следующих двух цифр — тоже. А некоторые начинают за здравие, а заканчивают… В общем очень неудобно!\n",
    "\n",
    "На вход даётся номер телефона, как его мог бы ввести человек. Необходимо его переформатировать в формат +7 123 456-78-90. \n",
    "Если с номером что-то не так, то нужно вывести строчку Fail!."
   ]
  },
  {
   "cell_type": "code",
   "execution_count": null,
   "metadata": {},
   "outputs": [],
   "source": [
    "import re\n",
    "\n",
    "tels = '''+7 951 476-33-90\n",
    "8(900)879-01-02\n",
    "7(800) 555-35-35\n",
    "1234567890\n",
    "123456789\n",
    "+9 987 654-32-10\n",
    "+7 921 154+08=40\n",
    "+7(751 89762-12\n",
    "8(985  258-96-71'''\n",
    "\n",
    "for tel in tels.split('\\n'):\n",
    "    match = re.findall('\\A(?:\\+7|7|8)?[\\s(]?(\\d{3})\\)?\\s?(\\d{3})-?(\\d\\d)-?(\\d\\d)', tel)\n",
    "    if match:\n",
    "        print('+7 {} {}-{}-{}'.format(*match[0]))\n",
    "    else:\n",
    "        print('Fail!')"
   ]
  },
  {
   "cell_type": "markdown",
   "metadata": {},
   "source": [
    "#### re: Идентификация госномеров\n",
    "В России применяются регистрационные знаки нескольких видов. Общего в них то, что они состоят из цифр и букв. \n",
    "Причём используются только 12 букв кириллицы, имеющие графические аналоги в латинском алфавите — А, В, Е, К, М, Н, О, Р, С, Т, У и Х.\n",
    "\n",
    "У частных легковых автомобилей номера — это буква, три цифры, две буквы, затем две или три цифры с кодом региона. \n",
    "У такси — две буквы, три цифры, затем две или три цифры с кодом региона. \n",
    "Есть также и другие виды, об этом можно почитать в [вики](https://ru.wikipedia.org/wiki/Регистрационные_знаки_транспортных_средств_в_России#Типы_регистрационных_знаков_России). \n",
    "\n",
    "В данной задаче вам потребуется определить, является ли последовательность символов корректным номером одного из \n",
    "шести типов (1, 1А, 1Б, 2, 3, 5 - см. ссылку выше), и если является, то каким.\n",
    "\n",
    "На вход дается текст состоящий из \"слов\", которые претендуют на то, чтобы быть номером, разделенных \n",
    "символом \";\". Определите тип номера. Буквы в номерах — заглавные русские.\n",
    "\n",
    "__Ввод:__\n",
    "\n",
    "_ЕС46531;Р785МС73;Н175НЕ78;9369ЕХ21;65К3НМУМ;К139НС37;С520ВК46;УО88842;736УА1НР;УА284835;ХС82175;85У64Х79;\n",
    "У989НУ19;НВ33318;МУ678325;СН928258;Т045ОУ01;ОА173991;М981ВЕН;О816КА39;СМ215759;СК55887;4СК2Х36О;АС08315;\n",
    "9188НК80;Х998ВМ40;НТ20218;7338ХУ48;0543УН21;9862АТ48;3378АК71;К341ВВ84;А439ТС41;3245ЕО161;С628КВО;3827ВР12;\n",
    "Х586УМ01;4060УТ01;1СА2В7РТ;2415ТМ31;ОС979110;Е377ТР87;62Х0ТУВ;7620ОК95;8740ХЕ94;5126НН98;О594МН57;ХК267085;\n",
    "ЕЕ57223;6402ТТ45;СЕ851602;НА37989;У338МА05;ОН80922;3197МН34;СТ66780;У096ВТЕХ;РН672196;ОУ559895_\n"
   ]
  },
  {
   "cell_type": "code",
   "execution_count": null,
   "metadata": {},
   "outputs": [],
   "source": [
    "import string\n",
    "import re\n",
    "\n",
    "codes = {'01', '02', '102', '03', '04', '05', '06', '07', '08', '09', '10', '11', '12', '13', '113', '14',\n",
    "         '15', '16', '116', '17', '18', '19', '20', '21', '121', '22', '23', '93', '24', '84', '88', '124',\n",
    "         '25', '125', '26', '27', '28', '29', '30', '31', '32', '33', '34', '35', '36', '37', '38', '85', '39',\n",
    "         '91', '40', '41', '82', '42', '43', '44', '45', '46', '47', '48', '49', '50', '90', '150', '190',\n",
    "         '51', '52', '152', '53', '54', '55', '56', '57', '58', '59', '81', '159', '60', '61', '161', '62',\n",
    "         '63', '163', '64', '164', '65', '66', '96', '67', '68', '69', '70', '71', '72', '73', '173', '74',\n",
    "         '174', '75', '80', '76', '77', '97', '99', '177', '197', '199', '78', '98', '79', '83', '86', '87',\n",
    "         '89', '92', '94', '95'}\n",
    "\n",
    "letters = 'АВЕКМНОРСТУХ'\n",
    "\n",
    "numbers = []\n",
    "\n",
    "patterns = {'Тип 1': f'(?:{\"|\".join(letters)})\\d{{3}}(?:{\"|\".join(letters)}){{2}}(?:{\"|\".join(codes)})',\n",
    "            'Тип 1А': f'(?:{\"|\".join(letters)})\\d{{3}}\\n(?:{\"|\".join(letters)}){{2}}(?:{\"|\".join(codes)})',\n",
    "            'Тип 1Б': f'(?:{\"|\".join(letters)}){{2}}\\d{{3}}(?:{\"|\".join(codes)})',\n",
    "            'Тип 2': f'(?:{\"|\".join(letters)}){{2}}\\d{{4}}(?:{\"|\".join(codes)})',\n",
    "            'Тип 3': f'\\d{{4}}\\n(?:{\"|\".join(letters)}){{2}}(?:{\"|\".join(codes)})',\n",
    "            'Тип 5': f'\\d{{4}}(?:{\"|\".join(letters)}){{2}}(?:{\"|\".join(codes)})'}\n",
    "\n",
    "\n",
    "text='''ЕС46531;Р785МС73;Н175НЕ78;9369ЕХ21;65К3НМУМ;К139НС37;С520ВК46;УО88842;736УА1НР;УА284835;ХС82175;\n",
    "85У64Х79;У989НУ19;НВ33318;МУ678325;СН928258;Т045ОУ01;ОА173991;М981ВЕН;О816КА39;СМ215759;СК55887;\n",
    "4СК2Х36О;АС08315;9188НК80;Х998ВМ40;НТ20218;7338ХУ48;0543УН21;9862АТ48;3378АК71;К341ВВ84;А439ТС41;\n",
    "3245ЕО161;С628КВО;3827ВР12;Х586УМ01;4060УТ01;1СА2В7РТ;2415ТМ31;ОС979110;Е377ТР87;62Х0ТУВ;7620ОК95;\n",
    "8740ХЕ94;5126НН98;О594МН57;ХК267085;ЕЕ57223;6402ТТ45;СЕ851602;НА37989;У338МА05;ОН80922;3197МН34;\n",
    "СТ66780;У096ВТЕХ;РН672196;ОУ559895'''\n",
    "\n",
    "\n",
    "for number in text.split(';'):\n",
    "    for pat in patterns:\n",
    "        if re.fullmatch(patterns[pat], number):\n",
    "            print(f'{pat}: {number}')\n",
    "            break\n",
    "    else:\n",
    "        print(f'Тип номера {number} не определен.')"
   ]
  },
  {
   "cell_type": "markdown",
   "metadata": {},
   "source": [
    "## Сторонние библиотеки"
   ]
  },
  {
   "cell_type": "markdown",
   "metadata": {},
   "source": [
    "### Изображения\n",
    "    pillow"
   ]
  },
  {
   "cell_type": "markdown",
   "metadata": {},
   "source": [
    "#### Как устроено изображение, работа с пикселями"
   ]
  },
  {
   "cell_type": "code",
   "execution_count": 5,
   "metadata": {},
   "outputs": [],
   "source": [
    "from PIL import Image\n",
    "\n",
    "img = Image.open('giraffe.jpg')\n",
    "w, h = img.size\n",
    "pix = img.load()\n",
    "\n",
    "for x in range(w // 2):\n",
    "    for y in range(h):\n",
    "        pix[x, y], pix[-1 - x, y] = pix[-1 - x, y], pix[x, y]\n",
    "img.show()"
   ]
  },
  {
   "cell_type": "code",
   "execution_count": 2,
   "metadata": {},
   "outputs": [],
   "source": [
    "img = Image.open('giraffe.jpg')\n",
    "w, h = img.size\n",
    "pix = img.load()\n",
    "\n",
    "for x in range(w):\n",
    "    for y in range(h):\n",
    "       r = pix[x, y][0]\n",
    "       g = pix[x, y][1]\n",
    "       b = pix[x, y][2]\n",
    "       sr = (r + g + b) // 3\n",
    "       pix[x, y] = (sr, sr, sr)\n",
    "img.show()"
   ]
  },
  {
   "cell_type": "code",
   "execution_count": 6,
   "metadata": {},
   "outputs": [],
   "source": [
    "img = Image.open('giraffe.jpg')\n",
    "w, h = img.size\n",
    "pix = img.load()\n",
    "\n",
    "for x in range(w):\n",
    "   for y in range(h):\n",
    "      r = pix[x, y][0]\n",
    "      g = pix[x, y][1]\n",
    "      b = pix[x, y][2]\n",
    "      pix[x, y] = (255 - r, 255 - g, 255 - b)\n",
    "img.show()"
   ]
  },
  {
   "cell_type": "markdown",
   "metadata": {},
   "source": [
    "#### Создание изображений средствами PIL"
   ]
  },
  {
   "cell_type": "code",
   "execution_count": 8,
   "metadata": {},
   "outputs": [],
   "source": [
    "from PIL import ImageDraw\n",
    "\n",
    "w = h = 256\n",
    "img = Image.new('RGB', (w, h))\n",
    "drawer = ImageDraw.Draw(img)\n",
    "\n",
    "for i in range(w, 0, -1):\n",
    "    color = (i, i, i)\n",
    "    drawer.line(((i, 0), (i, h)), color, 2)\n",
    "\n",
    "img.show()"
   ]
  },
  {
   "cell_type": "code",
   "execution_count": null,
   "metadata": {},
   "outputs": [],
   "source": [
    "def chess_board(num, size):\n",
    "    size_xy = num * size\n",
    "    img = Image.new(\"RGB\", (size_xy, size_xy))\n",
    "    drawer = ImageDraw.Draw(img)\n",
    "    for i in range(num):\n",
    "        for j in range(num):\n",
    "            c = (i + j) % 2\n",
    "            drawer.rectangle(((i * size, j * size),\n",
    "                              ((i + 1) * size, (j + 1) * size)),\n",
    "                             (c * 255, c * 255, c * 255))\n",
    "    img.show()\n",
    "    \n",
    "    \n",
    "chess_board(8, 40)"
   ]
  },
  {
   "cell_type": "markdown",
   "metadata": {},
   "source": [
    "#### Встроенные функции"
   ]
  },
  {
   "cell_type": "code",
   "execution_count": 22,
   "metadata": {},
   "outputs": [],
   "source": [
    "img = Image.open('giraffe.jpg')\n",
    "cropped = img.crop((270, 735, 470, 935))\n",
    "cropped.show()"
   ]
  },
  {
   "cell_type": "code",
   "execution_count": null,
   "metadata": {},
   "outputs": [],
   "source": [
    "img = Image.open('giraffe.jpg')\n",
    "size = tuple(a // 5 for a in img.size)\n",
    "n_colors = 256\n",
    "img.resize(size).quantize(n_colors).save('res.bmp')"
   ]
  },
  {
   "cell_type": "code",
   "execution_count": 27,
   "metadata": {},
   "outputs": [],
   "source": [
    "img = Image.open('giraffe.jpg')\n",
    "res = img.transpose(Image.ROTATE_180)\n",
    "res.show()"
   ]
  },
  {
   "cell_type": "markdown",
   "metadata": {},
   "source": [
    "#### Использование встроенных фильтров"
   ]
  },
  {
   "cell_type": "code",
   "execution_count": 33,
   "metadata": {},
   "outputs": [],
   "source": [
    "res = img.filter(ImageFilter.CONTOUR)\n",
    "res.show()"
   ]
  },
  {
   "cell_type": "code",
   "execution_count": 32,
   "metadata": {},
   "outputs": [],
   "source": [
    "from PIL import ImageFilter\n",
    "\n",
    "res = img.filter(ImageFilter.GaussianBlur(5))\n",
    "res.save('res.jpg')"
   ]
  },
  {
   "cell_type": "markdown",
   "metadata": {},
   "source": [
    "### Интернет скрапинг\n",
    "#### bs4: [рейтинг](https://www.tiobe.com/tiobe-index/)"
   ]
  },
  {
   "cell_type": "code",
   "execution_count": null,
   "metadata": {},
   "outputs": [],
   "source": [
    "from bs4 import BeautifulSoup\n",
    "from urllib import request\n",
    "\n",
    "url = r'https://www.tiobe.com/tiobe-index/'\n",
    "rawdata = request.urlopen(url).read()\n",
    "soup = BeautifulSoup(rawdata, 'lxml')\n",
    "\n",
    "data = []\n",
    "summ = 0\n",
    "for tag in soup.find('table', id='top20').find_all('tr')[1:11]:\n",
    "    data.append(tuple(tag.text for tag in tag.find_all('td')[3:5]))\n",
    "    summ += float(data[-1][1][:-1])\n",
    "data.append(('Other', f'{100 - summ:.2f}%'))\n",
    "print(data)"
   ]
  },
  {
   "cell_type": "markdown",
   "metadata": {},
   "source": [
    "### Документы\n",
    "    openpyxl, python-docx\n",
    "\n",
    "#### openpyxl: Таблицы и диаграммы"
   ]
  },
  {
   "cell_type": "code",
   "execution_count": null,
   "metadata": {},
   "outputs": [],
   "source": [
    "from openpyxl import Workbook\n",
    "from openpyxl.chart import PieChart, Reference\n",
    "from datetime import datetime\n",
    "\n",
    "wb = Workbook()\n",
    "ws = wb.active\n",
    "ws.title = str(datetime.now().date())\n",
    "for name, value in data:\n",
    "    value = float(value[:-1])\n",
    "    ws.append((name, value))\n",
    "    \n",
    "pie = PieChart()\n",
    "labels = Reference(ws, min_row=1, min_col=1, max_row=len(data))\n",
    "data_pie = Reference(ws, min_row=1, min_col=2, max_row=len(data))\n",
    "pie.add_data(data_pie, titles_from_data=False)\n",
    "pie.set_categories(labels)\n",
    "pie.title = 'TOP-10 TIOBE Index for August 2020'\n",
    "ws.add_chart(pie, 'C1')\n",
    "\n",
    "wb.save('TIOBE_rating.xlsx')"
   ]
  },
  {
   "cell_type": "markdown",
   "metadata": {},
   "source": [
    "#### docx: Пригласительные\n",
    "создать пригласительные на некоторое мероприятие, для каждого гостя на отдельной странице. В качестве входных данных - текстовый файл следующего содержания: место проведения, время мероприятия, а затем ФИО приглашённых гостей (количество строк заранее неизвестно)."
   ]
  },
  {
   "cell_type": "code",
   "execution_count": null,
   "metadata": {},
   "outputs": [],
   "source": [
    "from docx import Document\n",
    "from docx.shared import Cm, RGBColor\n",
    "from sys import stdin\n",
    "\n",
    "stdin = open('invite.txt', encoding='utf-8')\n",
    "place = stdin.readline().rstrip()\n",
    "time = stdin.readline().rstrip()\n",
    "doc = Document()\n",
    "for name in stdin:\n",
    "    h = doc.add_heading('ПРИГЛАШЕНИЕ\\n')\n",
    "    h.alignment = 1\n",
    "    p = doc.add_paragraph()\n",
    "    p.alignment = 1\n",
    "    p.add_run(f'Уважаемый(ая) {name.rstrip()}!\\n\\n').bold = True\n",
    "    p.add_run(f'{time} ждем Вас в {place}\\n\\n')\n",
    "    p.add_run(f'(здесь могло быть название вашего мероприятия)\\n\\n\\n')\n",
    "    \n",
    "    run = p.add_run(f'Не забудьте захватить хорошее настроение :)')\n",
    "    run.italic = True\n",
    "    font = run.font\n",
    "    font.color.rgb = RGBColor(0, 150, 0)    \n",
    "    pic = doc.add_picture('res.bmp', width=Cm(5))\n",
    "    doc.add_page_break()\n",
    "    \n",
    "doc.save('Приглашения.docx')"
   ]
  },
  {
   "cell_type": "markdown",
   "metadata": {},
   "source": [
    "### Игры\n",
    "    pygame\n",
    "* [Snake](https://gist.github.com/ConstLebedev/a55c7a9c000927d8258d0cd4dd6a1a2f)\n",
    "* [Life](https://gist.github.com/ConstLebedev/cd283d320ce77a52184efd57ae35acbf)"
   ]
  }
 ],
 "metadata": {
  "kernelspec": {
   "display_name": "Python 3",
   "language": "python",
   "name": "python3"
  },
  "language_info": {
   "codemirror_mode": {
    "name": "ipython",
    "version": 3
   },
   "file_extension": ".py",
   "mimetype": "text/x-python",
   "name": "python",
   "nbconvert_exporter": "python",
   "pygments_lexer": "ipython3",
   "version": "3.7.7"
  }
 },
 "nbformat": 4,
 "nbformat_minor": 4
}
