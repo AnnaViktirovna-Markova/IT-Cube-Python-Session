{
 "cells": [
  {
   "cell_type": "markdown",
   "metadata": {},
   "source": [
    "# Базовые конструкции Python"
   ]
  },
  {
   "cell_type": "markdown",
   "metadata": {},
   "source": [
    "## input и print, переменные"
   ]
  },
  {
   "cell_type": "code",
   "execution_count": null,
   "metadata": {},
   "outputs": [],
   "source": [
    "print('Hello world!')\n",
    "print('Hello world')\n",
    "print('Hello', 'world')"
   ]
  },
  {
   "cell_type": "code",
   "execution_count": null,
   "metadata": {},
   "outputs": [],
   "source": [
    "print('Какая сегодня погода?')\n",
    "weather = input()\n",
    "print('Да, погода сегодня', weather)"
   ]
  },
  {
   "cell_type": "code",
   "execution_count": null,
   "metadata": {},
   "outputs": [],
   "source": [
    "phrase1 = 'Добрый день'\n",
    "phrase2 = 'Здравствуйте'\n",
    "phrase3 = phrase2\n",
    "print(phrase3)"
   ]
  },
  {
   "cell_type": "markdown",
   "metadata": {},
   "source": [
    "## Типы данных и простые встроенные функции"
   ]
  },
  {
   "cell_type": "code",
   "execution_count": null,
   "metadata": {},
   "outputs": [],
   "source": [
    "a = 2\n",
    "b = 3\n",
    "print(a + b)"
   ]
  },
  {
   "cell_type": "code",
   "execution_count": null,
   "metadata": {},
   "outputs": [],
   "source": [
    "a = 2 + 2\n",
    "b = '2' + '2'\n",
    "print(a)\n",
    "print(b)"
   ]
  },
  {
   "cell_type": "code",
   "execution_count": null,
   "metadata": {},
   "outputs": [],
   "source": [
    "a = '2'\n",
    "b = 2\n",
    "print(a * 3)\n",
    "print(b * 3)"
   ]
  },
  {
   "cell_type": "code",
   "execution_count": null,
   "metadata": {},
   "outputs": [],
   "source": [
    "print(5 + 2)\n",
    "print(2 * 3)\n",
    "print(2 ** 3)\n",
    "print(5 // 2)\n",
    "print(5 % 2)"
   ]
  },
  {
   "cell_type": "code",
   "execution_count": null,
   "metadata": {},
   "outputs": [],
   "source": [
    "k = True\n",
    "print(k)\n",
    "print(not k)\n",
    "k = 5 > 2\n",
    "print(k)\n",
    "k = bool(0)\n",
    "print(k)\n",
    "k = bool(\"\")\n",
    "print(k)\n",
    "k = bool(13)\n",
    "print(k)\n",
    "k = bool(\"q\")\n",
    "print(k)\n",
    "k = bool(\"False\")\n",
    "print(k)"
   ]
  },
  {
   "cell_type": "markdown",
   "metadata": {},
   "source": [
    "Приоритет операций:\n",
    "1. Степень (**).\n",
    "2. Унарный минус (-). Для получения противоположного числа.\n",
    "3. Умножение, деление (* / % //).\n",
    "4. Сложение и вычитание (+ -).\n",
    "5. Сравнение (<= < > >=).\n",
    "6. Равенство (== !=).\n",
    "7. Присваивание (=).\n",
    "8. Логические операторы (not or and)."
   ]
  },
  {
   "cell_type": "code",
   "execution_count": null,
   "metadata": {},
   "outputs": [],
   "source": [
    "first = input()\n",
    "second = int(first)\n",
    "print(1 + second)"
   ]
  },
  {
   "cell_type": "code",
   "execution_count": null,
   "metadata": {},
   "outputs": [],
   "source": [
    "word = input()\n",
    "lenght = len(word)\n",
    "print('Вы ввели слово длиной', lenght, символов)"
   ]
  },
  {
   "cell_type": "code",
   "execution_count": null,
   "metadata": {},
   "outputs": [],
   "source": [
    "a = 1\n",
    "b = 2\n",
    "c = a\n",
    "a = b\n",
    "b = c\n",
    "print(a)\n",
    "print(b)"
   ]
  },
  {
   "cell_type": "code",
   "execution_count": null,
   "metadata": {},
   "outputs": [],
   "source": [
    "a = 1\n",
    "b = 2\n",
    "a, b = b, a"
   ]
  },
  {
   "cell_type": "markdown",
   "metadata": {},
   "source": [
    "## Составное присваивание"
   ]
  },
  {
   "cell_type": "code",
   "execution_count": null,
   "metadata": {},
   "outputs": [],
   "source": [
    "a = 5\n",
    "a = a + 1\n",
    "print(a)"
   ]
  },
  {
   "cell_type": "code",
   "execution_count": null,
   "metadata": {},
   "outputs": [],
   "source": [
    "a = 5\n",
    "a += 1\n",
    "print(a)"
   ]
  },
  {
   "cell_type": "markdown",
   "metadata": {},
   "source": [
    "## Оператор условия"
   ]
  },
  {
   "cell_type": "code",
   "execution_count": null,
   "metadata": {},
   "outputs": [],
   "source": [
    "temp = int(input('Введите температуру'))\n",
    "if temp > 25:\n",
    "    print('Сегодня жарко')\n",
    "elif 15 < temp <= 25:\n",
    "    print('Сегодня тепло')\n",
    "else:\n",
    "    print('Сегодня холодно')"
   ]
  },
  {
   "cell_type": "code",
   "execution_count": null,
   "metadata": {},
   "outputs": [],
   "source": [
    "password = input('Введите пароль')\n",
    "if password == 'python':\n",
    "    print('Доступ разрешен')"
   ]
  },
  {
   "cell_type": "markdown",
   "metadata": {},
   "source": [
    "## Логические операции"
   ]
  },
  {
   "cell_type": "code",
   "execution_count": null,
   "metadata": {},
   "outputs": [],
   "source": [
    "answer1 = input('Назовите столицу России')\n",
    "answer2 = input('Назовите столицу Беларуси')\n",
    "if answer1 == 'Москва' and answer2 == 'Минск':\n",
    "    print('Правильно!')\n",
    "else:\n",
    "    print('Вы ошиблись!')"
   ]
  },
  {
   "cell_type": "code",
   "execution_count": null,
   "metadata": {},
   "outputs": [],
   "source": [
    "answer = input('Назовите верхновного бога античного пантеона')\n",
    "if answer == 'Зевс' or answer == 'Юпитер':\n",
    "    print('Правильно!')\n",
    "else:\n",
    "    print('Вы ошиблись!')"
   ]
  },
  {
   "cell_type": "code",
   "execution_count": null,
   "metadata": {},
   "outputs": [],
   "source": [
    "answer = input('Введите любой цвет кроме чёрного и белого')\n",
    "if not (answer == 'чёрный' or answer == 'белый'):\n",
    "    print('Отлично!')\n",
    "else:\n",
    "    print('Ошибка!')"
   ]
  },
  {
   "cell_type": "markdown",
   "metadata": {},
   "source": [
    "## Команда in"
   ]
  },
  {
   "cell_type": "code",
   "execution_count": null,
   "metadata": {},
   "outputs": [],
   "source": [
    "answer = input('Введите слово, в котором есть строка \"ток\"')\n",
    "if 'ток' in answer:\n",
    "    print('Правильно!')\n",
    "else:\n",
    "    print('Вы ошиблись!')"
   ]
  },
  {
   "cell_type": "markdown",
   "metadata": {},
   "source": [
    "## while"
   ]
  },
  {
   "cell_type": "code",
   "execution_count": null,
   "metadata": {},
   "outputs": [],
   "source": [
    "password = input('Введите пароль')\n",
    "while password != 'python':\n",
    "    print('Неверный пароль')\n",
    "    password = input('Введите пароль')\n",
    "print('Доступ разрешён')"
   ]
  },
  {
   "cell_type": "code",
   "execution_count": null,
   "metadata": {},
   "outputs": [],
   "source": [
    "count = 0\n",
    "amount = 5\n",
    "while amount < 12:\n",
    "    count += 1\n",
    "print(count)"
   ]
  },
  {
   "cell_type": "code",
   "execution_count": null,
   "metadata": {},
   "outputs": [],
   "source": [
    "number = int(input('Введите число'))\n",
    "count = 0\n",
    "while number > 0:\n",
    "    if number % 2 == 0:\n",
    "        count += 1\n",
    "    number -= 1\n",
    "print(count)"
   ]
  },
  {
   "cell_type": "code",
   "execution_count": null,
   "metadata": {},
   "outputs": [],
   "source": [
    "biggest_book = 0\n",
    "n = int(input())\n",
    "while n > 0:\n",
    "    if n > biggest_book:\n",
    "        biggest_book = n\n",
    "    n = int(input())\n",
    "print(biggest_book)"
   ]
  },
  {
   "cell_type": "markdown",
   "metadata": {},
   "source": [
    "## for"
   ]
  },
  {
   "cell_type": "code",
   "execution_count": null,
   "metadata": {},
   "outputs": [],
   "source": [
    "n = int(input())\n",
    "for i in range(n):\n",
    "    print(i)"
   ]
  },
  {
   "cell_type": "code",
   "execution_count": null,
   "metadata": {},
   "outputs": [],
   "source": [
    "n = int(input())\n",
    "total = 0\n",
    "for i in range(n):\n",
    "    print('Рассматриваем число', i)\n",
    "    total += i\n",
    "    print('Промежуточная сумма равна', total)\n",
    "print('Итоговая сумма всех этих чисел равна', total)"
   ]
  },
  {
   "cell_type": "code",
   "execution_count": null,
   "metadata": {},
   "outputs": [],
   "source": [
    "for i in range(1, 11):\n",
    "    print(i)\n",
    "for i in range(1, 11, 2):\n",
    "    print(i)\n",
    "for i in range(10, 0, -1):\n",
    "    print(i)"
   ]
  },
  {
   "cell_type": "markdown",
   "metadata": {},
   "source": [
    "### Цикл while нужен, когда заранее неизвестно, сколько повторений нужно совершить\n",
    "### Цикл for нужен, когда заранее известно, сколько повторений нужно совершить"
   ]
  },
  {
   "cell_type": "markdown",
   "metadata": {},
   "source": [
    "## break и continue"
   ]
  },
  {
   "cell_type": "code",
   "execution_count": null,
   "metadata": {},
   "outputs": [],
   "source": [
    "for i in range(10):\n",
    "    print('Итерация номер', i, 'начинается...')\n",
    "    if i == 3:\n",
    "        print('Выход из цикла!')\n",
    "        break\n",
    "    print('Итерация номер', i, 'успешно завершена.')\n",
    "print('Цикл завершён.')"
   ]
  },
  {
   "cell_type": "code",
   "execution_count": null,
   "metadata": {},
   "outputs": [],
   "source": [
    "while True:\n",
    "    word = input()\n",
    "    if word == 'хватит':\n",
    "        break\n",
    "    print('Вы ввели:', word)"
   ]
  },
  {
   "cell_type": "code",
   "execution_count": null,
   "metadata": {},
   "outputs": [],
   "source": [
    "for i in range(10):\n",
    "    print('Итерация номер', i, 'начинается...')\n",
    "    if i == 3:\n",
    "        print('Итерация', i, 'пропадает.')\n",
    "        continue\n",
    "    print('Итерация номер', i, 'успешно завершена.')\n",
    "print('Цикл завершён.')"
   ]
  },
  {
   "cell_type": "code",
   "execution_count": null,
   "metadata": {},
   "outputs": [],
   "source": [
    "count = 1\n",
    "while count < 100:\n",
    "    if count % 5 == 0:\n",
    "        continue\n",
    "    print(count)\n",
    "    count += 1"
   ]
  },
  {
   "cell_type": "code",
   "execution_count": null,
   "metadata": {},
   "outputs": [],
   "source": [
    "count = 0\n",
    "exitLoop = False\n",
    "while not exitLoop:\n",
    "    print(\"Введите 'e' для выхода и любую другую клавишу для продолжения:\")\n",
    "    sm = input() \n",
    "    if sm == 'e':\n",
    "        exitLoop = True\n",
    "    else:\n",
    "        count += 1\n",
    "        print(\"Вы зашли в цикл \", count, \" раз(а)\")"
   ]
  },
  {
   "cell_type": "code",
   "execution_count": null,
   "metadata": {},
   "outputs": [],
   "source": [
    "exitLoop = False\n",
    "while not exitLoop:\n",
    "    print(\"Введите 'e' для выхода и любую другую клавишу для продолжения:\")\n",
    "    sm = input()\n",
    "    if sm == 'e':\n",
    "        break\n",
    "    count += 1\n",
    "    print(\"Вы зашли в цикл \", count, \" раз(а)\")"
   ]
  },
  {
   "cell_type": "markdown",
   "metadata": {},
   "source": [
    "# Коллекции"
   ]
  },
  {
   "cell_type": "markdown",
   "metadata": {},
   "source": [
    "## Строки"
   ]
  },
  {
   "cell_type": "markdown",
   "metadata": {},
   "source": [
    "П<sup>0</sup>Р<sup>1</sup>И<sup>2</sup>В<sup>3</sup>Е<sup>4</sup>Т<sup>5</sup> <sup>6</sup>М<sup>7</sup>И<sup>8</sup>Р<sup>9</sup>"
   ]
  },
  {
   "cell_type": "code",
   "execution_count": null,
   "metadata": {},
   "outputs": [],
   "source": [
    "word = 'привет'\n",
    "initial_letter = word[0]\n",
    "print(initial_letter)\n",
    "other_letter = word[3]\n",
    "print(other_letter)"
   ]
  },
  {
   "cell_type": "code",
   "execution_count": null,
   "metadata": {},
   "outputs": [],
   "source": [
    "word = 'добрый день'\n",
    "print(word[11])"
   ]
  },
  {
   "cell_type": "code",
   "execution_count": null,
   "metadata": {},
   "outputs": [],
   "source": [
    "text = 'Добрый день, дорогие друзья!'\n",
    "vowels = 0\n",
    "for letter in text:\n",
    "    if letter in 'аеуоюяыэи'}:\n",
    "        vowels += 1\n",
    "print(vowels)"
   ]
  },
  {
   "cell_type": "code",
   "execution_count": null,
   "metadata": {},
   "outputs": [],
   "source": [
    "text = 'Привет, мир'\n",
    "print(text[0:6])\n",
    "print(text[8:11])\n",
    "print(text[:6])\n",
    "print(text[8:])"
   ]
  },
  {
   "cell_type": "code",
   "execution_count": null,
   "metadata": {},
   "outputs": [],
   "source": [
    "text = 'Привет, мир!'\n",
    "for i in range(len(text)):\n",
    "    if (i + 1) % 2 == 0:\n",
    "        print(text[i])"
   ]
  },
  {
   "cell_type": "code",
   "execution_count": null,
   "metadata": {},
   "outputs": [],
   "source": [
    "text = 'а роза упала на лапу азора'\n",
    "reversed_text = text[::-1]\n",
    "print(reversed_text)"
   ]
  },
  {
   "cell_type": "markdown",
   "metadata": {},
   "source": [
    "## Списки, кортежи"
   ]
  },
  {
   "cell_type": "code",
   "execution_count": null,
   "metadata": {},
   "outputs": [],
   "source": [
    "lst = [1, 3, 5, 7, 9]\n",
    "print(lst)"
   ]
  },
  {
   "cell_type": "code",
   "execution_count": null,
   "metadata": {},
   "outputs": [],
   "source": [
    "empty_list = []\n",
    "empty_list = list()"
   ]
  },
  {
   "cell_type": "code",
   "execution_count": null,
   "metadata": {},
   "outputs": [],
   "source": [
    "print([2, 3, 4] * 3)"
   ]
  },
  {
   "cell_type": "code",
   "execution_count": null,
   "metadata": {},
   "outputs": [],
   "source": [
    "numbers = [1, 2, 3]\n",
    "first = numbers[:2]\n",
    "last = numbers[-1]"
   ]
  },
  {
   "cell_type": "code",
   "execution_count": null,
   "metadata": {},
   "outputs": [],
   "source": [
    "nums = [1, 2, 3]\n",
    "nums.append(4)\n",
    "print(nums)"
   ]
  },
  {
   "cell_type": "code",
   "execution_count": null,
   "metadata": {},
   "outputs": [],
   "source": [
    "a = [1, 2, 3, 4, 5, 6]\n",
    "del a[2]\n",
    "print(a)"
   ]
  },
  {
   "cell_type": "code",
   "execution_count": null,
   "metadata": {},
   "outputs": [],
   "source": [
    "text = 'привет мир'\n",
    "text_list = list(text)"
   ]
  },
  {
   "cell_type": "code",
   "execution_count": null,
   "metadata": {},
   "outputs": [],
   "source": [
    "lst = [1, 2, 4]\n",
    "text = 'привет'\n",
    "lst.extend(text)\n",
    "print(lst)"
   ]
  },
  {
   "cell_type": "code",
   "execution_count": null,
   "metadata": {},
   "outputs": [],
   "source": [
    "lst = [2, 4, 6, 7]\n",
    "lst[3] = 8\n",
    "print(lst)"
   ]
  },
  {
   "cell_type": "code",
   "execution_count": null,
   "metadata": {},
   "outputs": [],
   "source": [
    "lst = [2, 4, 6]\n",
    "if 2 in lst:\n",
    "    print('Есть')"
   ]
  },
  {
   "cell_type": "code",
   "execution_count": null,
   "metadata": {},
   "outputs": [],
   "source": [
    "n = 10\n",
    "a = []\n",
    "print('Введите', n, 'значений:')\n",
    "for i in range(n):\n",
    "    a.append(input())\n",
    "print('Получился список строк:', a)"
   ]
  },
  {
   "cell_type": "code",
   "execution_count": null,
   "metadata": {},
   "outputs": [],
   "source": [
    "months = ['январь', 'февраль', 'март', 'апрель', 'май', 'июнь', 'июль',\n",
    "          'август', 'сентябрь', 'октябрь', 'ноябрь', 'декабрь']\n",
    "spring = months[2:5]\n",
    "for month in spring:\n",
    "    print(month)"
   ]
  },
  {
   "cell_type": "code",
   "execution_count": null,
   "metadata": {},
   "outputs": [],
   "source": [
    "date = ('1', 'сентября')"
   ]
  },
  {
   "cell_type": "code",
   "execution_count": null,
   "metadata": {},
   "outputs": [],
   "source": [
    "dates = [('1', 'сентября'), ('2', 'марта'), ('3', 'апреля')]\n",
    "day, month = dates[0]"
   ]
  },
  {
   "cell_type": "markdown",
   "metadata": {},
   "source": [
    "## Методы списков и строк"
   ]
  },
  {
   "cell_type": "code",
   "execution_count": null,
   "metadata": {},
   "outputs": [],
   "source": [
    "s = 'раз два три'\n",
    "print(s.split() == ['раз', 'два', 'три'])\n",
    "print('     one two  three  '.split() == ['one', 'two', 'three'])\n",
    "print('192.168.1.1'.split('.') == ['192', '168', '1', '1'])\n",
    "print(s.split('а') == ['р', 'з дв', ' три'])\n",
    "print('A##B##C'.split('##') == ['A', 'B', 'C'])"
   ]
  },
  {
   "cell_type": "code",
   "execution_count": null,
   "metadata": {},
   "outputs": [],
   "source": [
    "s = ['Тот', 'Кого', 'Нельзя', 'Называть']\n",
    "print(''.join(s) == 'ТотКогоНельзяНазывать')\n",
    "print(' '.join(s) == 'Тот Кого Нельзя Называть')\n",
    "print('-'.join(s) == 'Тот-Кого-Нельзя-Называть')\n",
    "print('! '.join(s) == 'Тот! Кого! Нельзя! Называть')"
   ]
  },
  {
   "cell_type": "code",
   "execution_count": null,
   "metadata": {},
   "outputs": [],
   "source": [
    "print(['четное' if x % 2 == 0 else 'нечетное' for x in range(10)])"
   ]
  },
  {
   "cell_type": "code",
   "execution_count": null,
   "metadata": {},
   "outputs": [],
   "source": [
    "evil, good = [int(x) for x in '666 777'.split()]\n",
    "print(evil, good, sep='\\n')"
   ]
  },
  {
   "cell_type": "markdown",
   "metadata": {},
   "source": [
    "## Множества"
   ]
  },
  {
   "cell_type": "code",
   "execution_count": null,
   "metadata": {},
   "outputs": [],
   "source": [
    "mammals = {'cat', 'dog', 'fox', 'elephant'}\n",
    "print(mammals)"
   ]
  },
  {
   "cell_type": "code",
   "execution_count": null,
   "metadata": {},
   "outputs": [],
   "source": [
    "empty = set()"
   ]
  },
  {
   "cell_type": "code",
   "execution_count": null,
   "metadata": {},
   "outputs": [],
   "source": [
    "my_set = {'a', 'b', 'c'}\n",
    "n = len(my_set)"
   ]
  },
  {
   "cell_type": "code",
   "execution_count": null,
   "metadata": {},
   "outputs": [],
   "source": [
    "my_set = set()\n",
    "my_set.add('a')\n",
    "my_set.add('b')\n",
    "my_set.add('a')\n",
    "print(my_set)"
   ]
  },
  {
   "cell_type": "code",
   "execution_count": null,
   "metadata": {},
   "outputs": [],
   "source": [
    "my_set = {'a', 'b', 'c'}\n",
    "print('до удаления:', my_set)\n",
    "elem = my_set.pop()\n",
    "print('удалённый элемент:', elem)\n",
    "print('после удаления:', my_set)"
   ]
  },
  {
   "cell_type": "code",
   "execution_count": null,
   "metadata": {},
   "outputs": [],
   "source": [
    "s1 = {'a', 'b', 'c'}\n",
    "s2 = {'a', 'c', 'd'}\n",
    "union = s1.union(s2)                # {'a', 'b', 'c', 'd'}\n",
    "intersection = s1.intersection(s2)  # {'a', 'c'}\n",
    "diff = s1 - s2                      # {'b'}\n",
    "symm_diff = s1 ^ s2                 # {'b', 'd'}"
   ]
  },
  {
   "cell_type": "markdown",
   "metadata": {},
   "source": [
    "## Вложенные списки и словари"
   ]
  },
  {
   "cell_type": "code",
   "execution_count": null,
   "metadata": {},
   "outputs": [],
   "source": [
    "table = [[1, 2, 3], [4, 5, 6], [7, 8, 9]]\n",
    "print(table[0][0], table[0][1], table[1][0])"
   ]
  },
  {
   "cell_type": "code",
   "execution_count": null,
   "metadata": {},
   "outputs": [],
   "source": [
    "for i in range(3):\n",
    "    for j in range(3):\n",
    "        print(table[i][j], end='\\t')\n",
    "    print()"
   ]
  },
  {
   "cell_type": "code",
   "execution_count": null,
   "metadata": {},
   "outputs": [],
   "source": [
    "actors = {\n",
    " 'Джонни Депп': 'Джон Кристофер Депп Второй родился 9 июня 1963 года '\n",
    "                'в Овенсборо, Кентукки...',\n",
    " 'Сильвестр Сталлоне': 'Сильвестр Гарденцио Сталлоне родился в Нью-Йорке. '\n",
    "                       'Его отец, парикмахер Фрэнк Сталлоне — иммигрант из Сицилии...',\n",
    " 'Эмма Уотсон': 'Эмма Шарлотта Дуерр Уотсон родилась в семье английских адвокатов. '\n",
    "                'В пять лет переехала вместе с семьей из Парижа в Англию...',\n",
    " # ...\n",
    " }"
   ]
  },
  {
   "cell_type": "code",
   "execution_count": null,
   "metadata": {},
   "outputs": [],
   "source": [
    "empty = dict()\n",
    "empty = {}"
   ]
  },
  {
   "cell_type": "code",
   "execution_count": null,
   "metadata": {},
   "outputs": [],
   "source": [
    "actors = {\n",
    " 'Джонни Депп': 'Джон Кристофер Депп Второй родился 9 июня 1963 года '\n",
    "                'в Овенсборо, Кентукки...',\n",
    " 'Сильвестр Сталлоне': 'Сильвестр Гарденцио Сталлоне родился в Нью-Йорке. '\n",
    "                       'Его отец, парикмахер Фрэнк Сталлоне — иммигрант из Сицилии...',\n",
    " 'Эмма Уотсон': 'Эмма Шарлотта Дуерр Уотсон родилась в семье английских адвокатов. '\n",
    "                'В пять лет переехала вместе с семьей из Парижа в Англию...',\n",
    " # ...\n",
    " }\n",
    "print(actors['Эмма Уотсон'])"
   ]
  },
  {
   "cell_type": "code",
   "execution_count": null,
   "metadata": {},
   "outputs": [],
   "source": [
    "actors = {\n",
    " 'Джонни Депп': 'Джон Кристофер Депп Второй родился 9 июня 1963 года '\n",
    "                'в Овенсборо, Кентукки...',\n",
    " 'Сильвестр Сталлоне': 'Сильвестр Гарденцио Сталлоне родился в Нью-Йорке. '\n",
    "                       'Его отец, парикмахер Фрэнк Сталлоне — иммигрант из Сицилии...',\n",
    " 'Эмма Уотсон': 'Эмма Шарлотта Дуерр Уотсон родилась в семье английских адвокатов. '\n",
    "                'В пять лет переехала вместе с семьей из Парижа в Англию...',\n",
    " # ...\n",
    " }\n",
    "\n",
    "actors['Эмма Уотсон'] = 'Новый текст статьи об Эмме Уотсон'\n",
    "print(actors['Эмма Уотсон'])"
   ]
  },
  {
   "cell_type": "code",
   "execution_count": null,
   "metadata": {},
   "outputs": [],
   "source": [
    "del actors['Джонни Депп']"
   ]
  },
  {
   "cell_type": "code",
   "execution_count": null,
   "metadata": {},
   "outputs": [],
   "source": [
    "actors['Брэд Питт'] = 'Уильям Брэдли Питт, более известный как Брэд Питт — ' \\\n",
    "                      'американский актёр и продюсер. ' \\\n",
    "                      'Лауреат премии «Золотой глобус» за 1995 год, ...'"
   ]
  },
  {
   "cell_type": "code",
   "execution_count": null,
   "metadata": {},
   "outputs": [],
   "source": [
    "article = actors.get('Джонни Депп')"
   ]
  },
  {
   "cell_type": "code",
   "execution_count": null,
   "metadata": {},
   "outputs": [],
   "source": [
    "actors_names = list(actors.keys())"
   ]
  },
  {
   "cell_type": "code",
   "execution_count": null,
   "metadata": {},
   "outputs": [],
   "source": [
    "all_articles = list(actors.values())"
   ]
  }
 ],
 "metadata": {
  "kernelspec": {
   "display_name": "Python 3",
   "language": "python",
   "name": "python3"
  },
  "language_info": {
   "codemirror_mode": {
    "name": "ipython",
    "version": 3
   },
   "file_extension": ".py",
   "mimetype": "text/x-python",
   "name": "python",
   "nbconvert_exporter": "python",
   "pygments_lexer": "ipython3",
   "version": "3.8.2"
  }
 },
 "nbformat": 4,
 "nbformat_minor": 4
}
