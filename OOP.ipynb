{
 "cells": [
  {
   "cell_type": "markdown",
   "metadata": {},
   "source": [
    "# ООП"
   ]
  },
  {
   "cell_type": "markdown",
   "metadata": {},
   "source": [
    "## Классы"
   ]
  },
  {
   "cell_type": "code",
   "execution_count": null,
   "metadata": {},
   "outputs": [],
   "source": [
    "class SomeClass():\n",
    "    # атрибуты и методы класса"
   ]
  },
  {
   "cell_type": "markdown",
   "metadata": {},
   "source": [
    "Атрибуты классов можно установить с помощью простого присваивания:"
   ]
  },
  {
   "cell_type": "code",
   "execution_count": null,
   "metadata": {},
   "outputs": [],
   "source": [
    "class SomeClass():\n",
    "    attr1 = 42\n",
    "    attr2 = \"Hello, World\""
   ]
  },
  {
   "cell_type": "markdown",
   "metadata": {},
   "source": [
    "Методы объявляются как простые функции:"
   ]
  },
  {
   "cell_type": "code",
   "execution_count": null,
   "metadata": {},
   "outputs": [],
   "source": [
    "class SomeClass():\n",
    "    def method1(self, x):\n",
    "        return 2 * x"
   ]
  },
  {
   "cell_type": "markdown",
   "metadata": {},
   "source": [
    "Следует обратить внимание на первый аргумент – self."
   ]
  },
  {
   "cell_type": "markdown",
   "metadata": {},
   "source": [
    "Все созданные атрибуты сохраняются в атрибуте __dict__, который является словарем."
   ]
  },
  {
   "cell_type": "markdown",
   "metadata": {},
   "source": [
    "## Экземпляры классов"
   ]
  },
  {
   "cell_type": "code",
   "execution_count": null,
   "metadata": {},
   "outputs": [],
   "source": [
    "class SomeClass():\n",
    "    attr1 = 42\n",
    "    attr2 = \"Hello, World\"\n",
    "    def method1(self, x):\n",
    "        return 2 * x\n",
    "    \n",
    "some_object = SomeClass()\n",
    "print(some_object.attr1)\n",
    "print(some_object.attr2)\n",
    "print(some_object.method1(6))"
   ]
  },
  {
   "cell_type": "markdown",
   "metadata": {},
   "source": [
    "Можно создавать атрибуты класса с заранее заданными параметрами с помощью инициализатора (специальный метод __init__). Для примера возьмем класс Point (точка пространства), объекты которого должны иметь определенные координаты:"
   ]
  },
  {
   "cell_type": "code",
   "execution_count": null,
   "metadata": {},
   "outputs": [],
   "source": [
    "class Point():\n",
    "    def __init__(self, x, y, z):\n",
    "        self.coord = (x, y, z)\n",
    "\n",
    "p = Point(13, 14, 15)\n",
    "p.coord"
   ]
  },
  {
   "cell_type": "markdown",
   "metadata": {},
   "source": [
    "Так же аттрибуты и классы можно определять динамически:"
   ]
  },
  {
   "cell_type": "code",
   "execution_count": null,
   "metadata": {},
   "outputs": [],
   "source": [
    "class SomeClass():\n",
    "    pass\n",
    "\n",
    "def squareMethod(self, x):\n",
    "    return x * x\n",
    "\n",
    "SomeClass.square = squareMethod\n",
    "obj = SomeClass()\n",
    "obj.square(5)"
   ]
  },
  {
   "cell_type": "markdown",
   "metadata": {},
   "source": [
    "## Специальные методы"
   ]
  },
  {
   "cell_type": "markdown",
   "metadata": {},
   "source": [
    "Метод-деконструктор __del__:"
   ]
  },
  {
   "cell_type": "code",
   "execution_count": null,
   "metadata": {},
   "outputs": [],
   "source": [
    "class SomeClass():\n",
    "    def __init__(self, name):\n",
    "        self.name = name\n",
    "\n",
    "    def __del__(self):\n",
    "        print(f'удаляется объект {self.name} класса {__class__.__name__}')\n",
    "\n",
    "obj = SomeClass(\"John\");\n",
    "del obj"
   ]
  },
  {
   "cell_type": "markdown",
   "metadata": {},
   "source": [
    "Метод __add__:"
   ]
  },
  {
   "cell_type": "code",
   "execution_count": null,
   "metadata": {},
   "outputs": [],
   "source": [
    "class SomeClass:\n",
    "    def __init__(self, some_attr):\n",
    "        self.attr = some_attr\n",
    "        \n",
    "    def __add__(self, other):\n",
    "        return SomeClass(self.attr + other.attr)\n",
    "    \n",
    "first = SomeClass(237)\n",
    "second = SomeClass(567)\n",
    "third = first + second\n",
    "print(third.attr)"
   ]
  },
  {
   "cell_type": "markdown",
   "metadata": {},
   "source": [
    "Метод __str__ представляет собой переопределение объекта в функции print()"
   ]
  },
  {
   "cell_type": "code",
   "execution_count": null,
   "metadata": {},
   "outputs": [],
   "source": [
    "print(third)"
   ]
  },
  {
   "cell_type": "code",
   "execution_count": null,
   "metadata": {},
   "outputs": [],
   "source": [
    "class SomeClass:\n",
    "    def __init__(self, some_attr):\n",
    "        self.attr = some_attr\n",
    "        \n",
    "    def __add__(self, other):\n",
    "        return SomeClass(self.attr + other.attr)\n",
    "    \n",
    "    def __str__(self):\n",
    "        return f'Объект {third.attr}'\n",
    "    \n",
    "first = SomeClass(237)\n",
    "second = SomeClass(567)\n",
    "third = first + second\n",
    "print(third)"
   ]
  },
  {
   "cell_type": "markdown",
   "metadata": {},
   "source": [
    "Объект как функция. Объект класса может имитировать стандартную функцию, то есть при желании его можно \"вызвать\" с параметрами. За эту возможность отвечает специальный метод __call__:"
   ]
  },
  {
   "cell_type": "code",
   "execution_count": null,
   "metadata": {},
   "outputs": [],
   "source": [
    "class Multiplier:\n",
    "    def __call__(self, x, y):\n",
    "        return x * y\n",
    "\n",
    "multiply = Multiplier()\n",
    "multiply(19, 19)"
   ]
  },
  {
   "cell_type": "markdown",
   "metadata": {},
   "source": [
    "### Имитация итерируемых объектов"
   ]
  },
  {
   "cell_type": "markdown",
   "metadata": {},
   "source": [
    "Размер объекта"
   ]
  },
  {
   "cell_type": "code",
   "execution_count": null,
   "metadata": {},
   "outputs": [],
   "source": [
    "class Garage:\n",
    "    def __init__(self, cars):\n",
    "        self.cars = cars\n",
    "\n",
    "    def __len__(self):\n",
    "        return len(self.cars)\n",
    "\n",
    "garage = Garage(['Мерседес', 'Лада', 'Ё-мобиль'])\n",
    "len(collection)"
   ]
  },
  {
   "cell_type": "markdown",
   "metadata": {},
   "source": [
    " * __getItem__ – реализация синтаксиса object[key], получение значения по ключу;\n",
    " * __delItem__ – удаление значения;\n",
    " * __contains__ – проверка наличия значения.\n",
    " ..."
   ]
  },
  {
   "cell_type": "code",
   "execution_count": null,
   "metadata": {},
   "outputs": [],
   "source": [
    "class Garage:\n",
    "    def __init__(self, cars):\n",
    "        self.cars = cars\n",
    "\n",
    "    def __getitem__(self, key):\n",
    "        return self.cars[key]\n",
    "    \n",
    "    def __delitem__(self, key):\n",
    "        del self.cars[key]\n",
    "        \n",
    "    def __str__(self):\n",
    "        return f'{self.cars}'\n",
    "    \n",
    "    def __contains__(self, some):\n",
    "        return some in self.cars\n",
    "\n",
    "garage = Garage(['Мерседес', 'Лада', 'Ё-мобиль'])\n",
    "print(garage[0])\n",
    "del garage[2]\n",
    "print(garage)\n",
    "print('Лада' in garage)"
   ]
  },
  {
   "cell_type": "markdown",
   "metadata": {},
   "source": [
    "### Имитация числовых типов"
   ]
  },
  {
   "cell_type": "markdown",
   "metadata": {},
   "source": [
    "__mul__ позволяет умножать объект на число по определенной нами логике:"
   ]
  },
  {
   "cell_type": "code",
   "execution_count": null,
   "metadata": {},
   "outputs": [],
   "source": [
    "class SomeClass:\n",
    "    def __init__(self, value):\n",
    "        self.value = value\n",
    "\n",
    "    def __mul__(self, number):\n",
    "        return self.value * number\n",
    "\n",
    "obj = SomeClass(42)\n",
    "print(obj * 100)"
   ]
  },
  {
   "cell_type": "markdown",
   "metadata": {},
   "source": [
    "## Большая тройка"
   ]
  },
  {
   "cell_type": "markdown",
   "metadata": {},
   "source": [
    "### Инкапсуляция - технология сокрытия информации и методах объекта внутри самого объекта"
   ]
  },
  {
   "cell_type": "markdown",
   "metadata": {},
   "source": [
    "Метод может быть объявлен приватным (внутренним) с помощью нижнего подчеркивания перед именем, но настоящего скрытия на самом деле не происходит – все на уровне соглашений."
   ]
  },
  {
   "cell_type": "code",
   "execution_count": null,
   "metadata": {},
   "outputs": [],
   "source": [
    "class SomeClass:\n",
    "    def _private(self):\n",
    "        print(\"Это внутренний метод объекта\")\n",
    "\n",
    "obj = SomeClass()\n",
    "obj._private()"
   ]
  },
  {
   "cell_type": "markdown",
   "metadata": {},
   "source": [
    "Если поставить перед именем атрибута два подчеркивания, к нему нельзя будет обратиться напрямую:"
   ]
  },
  {
   "cell_type": "code",
   "execution_count": null,
   "metadata": {},
   "outputs": [],
   "source": [
    "class SomeClass():\n",
    "    def __init__(self):\n",
    "        self.__param = 42 # защищенный атрибут\n",
    "\n",
    "obj = SomeClass()\n",
    "obj.__param"
   ]
  },
  {
   "cell_type": "markdown",
   "metadata": {},
   "source": [
    "Но обходной путь всё равно есть:"
   ]
  },
  {
   "cell_type": "code",
   "execution_count": null,
   "metadata": {},
   "outputs": [],
   "source": [
    "obj._SomeClass__param"
   ]
  },
  {
   "cell_type": "markdown",
   "metadata": {},
   "source": [
    "### Наследование - механизм, позволяющий создавать иерархию классов"
   ]
  },
  {
   "cell_type": "code",
   "execution_count": null,
   "metadata": {},
   "outputs": [],
   "source": [
    "class Mammal():\n",
    "    className = 'Mammal'\n",
    "\n",
    "class Dog(Mammal):\n",
    "    species = 'Canis lupus'\n",
    "\n",
    "dog = Dog()\n",
    "print(dog.className)"
   ]
  },
  {
   "cell_type": "markdown",
   "metadata": {},
   "source": [
    "Наследование так же может быть множественным:"
   ]
  },
  {
   "cell_type": "code",
   "execution_count": null,
   "metadata": {},
   "outputs": [],
   "source": [
    "class Horse():\n",
    "    isHorse = True\n",
    "\n",
    "class Donkey():\n",
    "    isDonkey = True\n",
    "\n",
    "class Mule(Horse, Donkey):\n",
    "    isMule = True\n",
    "\n",
    "mule = Mule()\n",
    "print(mule.isHorse)\n",
    "print(mule.isDonkey)"
   ]
  },
  {
   "cell_type": "markdown",
   "metadata": {},
   "source": [
    "### Полиморфизм - свойство кода выбирать реализацию во время исполнения программы"
   ]
  },
  {
   "cell_type": "code",
   "execution_count": null,
   "metadata": {},
   "outputs": [],
   "source": [
    "class Mammal:\n",
    "    def move(self):\n",
    "        print('Двигается')\n",
    "\n",
    "class Rabbit(Mammal):\n",
    "    def move(self):\n",
    "        print('Прыгает')\n",
    "\n",
    "animal = Mammal()\n",
    "animal.move()\n",
    "rabbit = Rabbit()\n",
    "hare.move()"
   ]
  },
  {
   "cell_type": "markdown",
   "metadata": {},
   "source": [
    "Можно получить и доступ к методам класса-предка либо по прямому обращению, либо с помощью функции super:"
   ]
  },
  {
   "cell_type": "code",
   "execution_count": null,
   "metadata": {},
   "outputs": [],
   "source": [
    "class Parent():\n",
    "    def __init__(self):\n",
    "        print('Parent init')\n",
    "\n",
    "    def method(self):\n",
    "        print('Parent method')\n",
    "\n",
    "class Child(Parent):\n",
    "    def __init__(self):\n",
    "        Parent.__init__(self)\n",
    "\n",
    "    def method(self):\n",
    "        super(Child, self).method()\n",
    "\n",
    "child = Child() # Parent init\n",
    "child.method()"
   ]
  },
  {
   "cell_type": "markdown",
   "metadata": {},
   "source": [
    "Одинаковый интерфейс с разной реализацией могут иметь и классы, не связанные родственными узами. Это связано с утиной типизацией."
   ]
  },
  {
   "cell_type": "code",
   "execution_count": null,
   "metadata": {},
   "outputs": [],
   "source": [
    "class English:\n",
    "  def greeting(self):\n",
    "    print (\"Hello\")\n",
    "\n",
    "class French:\n",
    "  def greeting(self):\n",
    "    print (\"Bonjour\")\n",
    "\n",
    "def intro(language):\n",
    "  language.greeting()\n",
    "\n",
    "john = English()\n",
    "gerard = French()\n",
    "intro(john)\n",
    "intro(gerard)"
   ]
  },
  {
   "cell_type": "markdown",
   "metadata": {},
   "source": [
    "## Обработка исключений"
   ]
  },
  {
   "cell_type": "markdown",
   "metadata": {},
   "source": [
    "Исключения - ещё один один тип данных"
   ]
  },
  {
   "cell_type": "code",
   "execution_count": null,
   "metadata": {},
   "outputs": [],
   "source": [
    "print(100/0)"
   ]
  },
  {
   "cell_type": "code",
   "execution_count": null,
   "metadata": {},
   "outputs": [],
   "source": [
    "2 + '1'"
   ]
  },
  {
   "cell_type": "markdown",
   "metadata": {},
   "source": [
    "Зная, когда и при каких обстоятельствах могут возникнуть исключения, мы можем их обрабатывать:"
   ]
  },
  {
   "cell_type": "code",
   "execution_count": null,
   "metadata": {},
   "outputs": [],
   "source": [
    "try:\n",
    "    k = 1 / 0\n",
    "except ZeroDivisionError:\n",
    "    k = 0\n",
    "print(k)"
   ]
  },
  {
   "cell_type": "markdown",
   "metadata": {},
   "source": [
    "Также возможна инструкция except без аргументов, которая перехватывает вообще всё (и прерывание с клавиатуры, и системный выход и т. д.). Поэтому в такой форме инструкция except практически не используется, а используется except Exception. Однако чаще всего перехватывают исключения по одному, для упрощения отладки."
   ]
  },
  {
   "cell_type": "markdown",
   "metadata": {},
   "source": [
    "Ещё две инструкции, относящиеся к нашей проблеме, это finally и else:"
   ]
  },
  {
   "cell_type": "code",
   "execution_count": null,
   "metadata": {},
   "outputs": [],
   "source": [
    "string = '26 мая 6 июня 1799 года в Москве родился Александр Сергеевич Пушкин'\n",
    "ints = []\n",
    "try:\n",
    "    for letter in string:         #  Запуск кода\n",
    "        ints.append(int(letter))\n",
    "except ValueError:\n",
    "    print('Это не число. Выходим.')  #  Запуск кода если были исключения\n",
    "except Exception:\n",
    "    print('Это что ещё такое?')\n",
    "else:\n",
    "    print('Всё хорошо.')   #  Запуск кода если исключений не было\n",
    "finally:\n",
    "    print('Я закончил.')    #  Запуск кода независимо от того были ли исключения\n",
    "    print(ints)\n",
    "#  Именно в таком порядке: try, группа except, затем else, и только потом finally."
   ]
  }
 ],
 "metadata": {
  "kernelspec": {
   "display_name": "Python 3",
   "language": "python",
   "name": "python3"
  },
  "language_info": {
   "codemirror_mode": {
    "name": "ipython",
    "version": 3
   },
   "file_extension": ".py",
   "mimetype": "text/x-python",
   "name": "python",
   "nbconvert_exporter": "python",
   "pygments_lexer": "ipython3",
   "version": "3.8.2"
  }
 },
 "nbformat": 4,
 "nbformat_minor": 4
}
