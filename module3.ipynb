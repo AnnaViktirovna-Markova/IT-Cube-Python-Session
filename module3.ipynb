{
 "cells": [
  {
   "cell_type": "markdown",
   "metadata": {},
   "source": [
    "# Модуль 3. Функциональное программирование\n",
    "1. Введение в функции\n",
    "2. Возвращение значений\n",
    "3. Области видимости\n",
    "4. Переменное число аргументов\n",
    "5. Функция как объект"
   ]
  },
  {
   "cell_type": "markdown",
   "metadata": {},
   "source": [
    "## Начальные сведения о функциях\n",
    "#### 1. Функции как способ структурирования кода"
   ]
  },
  {
   "cell_type": "code",
   "execution_count": null,
   "metadata": {},
   "outputs": [],
   "source": [
    "print('Что будете заказывать?')\n",
    "order1 = input()\n",
    "print(f'Ваш заказ принят. Мы доставим {order1} в течение часа.')\n",
    "\n",
    "print('Что еще будете заказывать?')\n",
    "order2 = input()\n",
    "print(f'Ваш заказ принят. Мы доставим {order2} в течение часа.')\n",
    "\n",
    "print('Может еще что-то?')\n",
    "order3 = input()\n",
    "print(f'Ваш заказ принят. Мы доставим {order3} в течение часа.')\n"
   ]
  },
  {
   "cell_type": "markdown",
   "metadata": {},
   "source": [
    "***Проблемы в данном примере:***\n",
    "- Три раза повторяется одинаковый код\n",
    "- Использованы разные имена переменных\n",
    "- Сложность внесения изменений"
   ]
  },
  {
   "cell_type": "code",
   "execution_count": null,
   "metadata": {},
   "outputs": [],
   "source": [
    "def make_order():\n",
    "    order = input()\n",
    "    print(f'Ваш заказ принят. Мы доставим {order} в течение часа.')"
   ]
  },
  {
   "cell_type": "code",
   "execution_count": null,
   "metadata": {},
   "outputs": [],
   "source": [
    "print('Что будете заказывать?')\n",
    "make_order()\n",
    "\n",
    "print('Что еще будете заказывать?')\n",
    "make_order()\n",
    "\n",
    "print('Может еще что-то?')\n",
    "make_order()"
   ]
  },
  {
   "cell_type": "code",
   "execution_count": null,
   "metadata": {},
   "outputs": [],
   "source": [
    "t = [36.7, 37.9, 36.3, 35.4, 37.0, 35.9, 35.7, 35.9, 36.7, 37.0, 37.3, 38.2, 35.4, 36.6, 39.2, 37.8, 36.8]\n",
    "s = 0\n",
    "min_ = 99\n",
    "max_ = -99\n",
    "for e in t:\n",
    "    s += e\n",
    "    if e < min_:\n",
    "        min_ = e\n",
    "    if e > max_:\n",
    "        max_ = e\n",
    "print(s / len(t))\n",
    "print(min_)\n",
    "print(max_)"
   ]
  },
  {
   "cell_type": "code",
   "execution_count": null,
   "metadata": {},
   "outputs": [],
   "source": [
    "temperatures = [36.7, 37.9, 36.3, 35.4, 37.0, 35.9, 35.7, 35.9, 36.7, 37.0, 37.3, 38.2, 35.4, 36.6, 39.2, 37.8, 36.8]\n",
    "average_temperature = sum(temperatures) / len(temperatures)\n",
    "\n",
    "print(average_temperature)\n",
    "print(min(temperatures))\n",
    "print(max(temperatures))"
   ]
  },
  {
   "cell_type": "markdown",
   "metadata": {},
   "source": [
    "#### 2. Определение и вызов функций"
   ]
  },
  {
   "cell_type": "markdown",
   "metadata": {},
   "source": [
    "     def имя_функции(аргументы):\n",
    "\n",
    "        тело_функции"
   ]
  },
  {
   "cell_type": "code",
   "execution_count": null,
   "metadata": {},
   "outputs": [],
   "source": [
    "def hello():\n",
    "    print('Hello world!')\n",
    "\n",
    "hello()"
   ]
  },
  {
   "cell_type": "code",
   "execution_count": null,
   "metadata": {},
   "outputs": [],
   "source": [
    "hello2()\n",
    "\n",
    "def hello2():\n",
    "    print('Hello world again!')"
   ]
  },
  {
   "cell_type": "markdown",
   "metadata": {},
   "source": [
    "#### 3. Предъявите ваши аргументы"
   ]
  },
  {
   "cell_type": "code",
   "execution_count": null,
   "metadata": {},
   "outputs": [],
   "source": [
    "def print_arr(arr):\n",
    "    for e in arr:\n",
    "        print(e)\n",
    "    \n",
    "print_arr(['раз', 'два', 'три'])\n",
    "print_arr([4, 5, 6])\n",
    "print_arr('йцукенг')"
   ]
  },
  {
   "cell_type": "code",
   "execution_count": null,
   "metadata": {},
   "outputs": [],
   "source": [
    "def how_many_cows(num):\n",
    "    ones = num % 10    \n",
    "    if 10 < num < 20 or ones == 0 or ones > 4:\n",
    "        cow = 'коров'\n",
    "    elif ones == 1:\n",
    "        cow = 'корова'\n",
    "    else:\n",
    "        cow = 'коровы'\n",
    "    print(num, cow)\n",
    "\n",
    "    \n",
    "for i in [1, 5, 10, 21, 33]:\n",
    "    how_many_cows(i)"
   ]
  },
  {
   "cell_type": "code",
   "execution_count": null,
   "metadata": {},
   "outputs": [],
   "source": [
    "how_many_cows(33 + 33)"
   ]
  },
  {
   "cell_type": "code",
   "execution_count": null,
   "metadata": {},
   "outputs": [],
   "source": [
    "def drove(arg1, arg2):\n",
    "    print('ехал')\n",
    "\n",
    "def a_greek():\n",
    "    print('грека')\n",
    "\n",
    "def across_the_river():\n",
    "    print('через реку')\n",
    "\n",
    "\n",
    "drove(a_greek(), across_the_river())"
   ]
  },
  {
   "cell_type": "markdown",
   "metadata": {},
   "source": [
    "### Задачи:\n",
    "- [Четверти](https://repl.it/student/submissions/13560581)\n",
    "- [Возможные треугольники](https://repl.it/student/submissions/13561717)"
   ]
  },
  {
   "cell_type": "markdown",
   "metadata": {},
   "source": [
    "## Возвращение значений\n",
    "#### 1. Функция имеет значение"
   ]
  },
  {
   "cell_type": "code",
   "execution_count": null,
   "metadata": {},
   "outputs": [],
   "source": [
    "def square(a):\n",
    "    return a * a\n",
    "\n",
    "square(3)"
   ]
  },
  {
   "cell_type": "code",
   "execution_count": null,
   "metadata": {},
   "outputs": [],
   "source": [
    "r = 5\n",
    "circle_area = 3.14 * square(r)\n",
    "\n",
    "print(circle_area)"
   ]
  },
  {
   "cell_type": "markdown",
   "metadata": {},
   "source": [
    "#### 2. Несколько значений"
   ]
  },
  {
   "cell_type": "code",
   "execution_count": null,
   "metadata": {},
   "outputs": [],
   "source": [
    "def abs(x):\n",
    "    if x >= 0:\n",
    "        return x\n",
    "    else:\n",
    "        return -x"
   ]
  },
  {
   "cell_type": "code",
   "execution_count": null,
   "metadata": {},
   "outputs": [],
   "source": [
    "def abs(x):\n",
    "    if x >= 0:\n",
    "        return x\n",
    "    return -x"
   ]
  },
  {
   "cell_type": "markdown",
   "metadata": {},
   "source": [
    "#### 3. Из пучины функций"
   ]
  },
  {
   "cell_type": "code",
   "execution_count": null,
   "metadata": {},
   "outputs": [],
   "source": [
    "def matrix_has_zero(matrix):\n",
    "    found = False\n",
    "    for row in matrix:\n",
    "        for cell in row:\n",
    "            if cell == 0:\n",
    "                found = True\n",
    "                break\n",
    "        if found:\n",
    "            break\n",
    "    if found:\n",
    "        return True\n",
    "    return False\n",
    "\n",
    "    \n",
    "matrix_has_zero([[1,2,3],\n",
    "                 [4,5,0],\n",
    "                 [7,8,9]])"
   ]
  },
  {
   "cell_type": "code",
   "execution_count": null,
   "metadata": {},
   "outputs": [],
   "source": [
    "def matrix_has_zero(matrix):\n",
    "    for row in matrix:\n",
    "        for cell in row:\n",
    "            if cell == 0:\n",
    "                return True\n",
    "    return False\n",
    "\n",
    "\n",
    "matrix_has_zero([[1,2,3],\n",
    "                 [4,5,6],\n",
    "                 [7,8,9]])"
   ]
  },
  {
   "cell_type": "markdown",
   "metadata": {},
   "source": [
    "#### 4. Несколько значений за раз"
   ]
  },
  {
   "cell_type": "code",
   "execution_count": null,
   "metadata": {},
   "outputs": [],
   "source": [
    "def move(coord, v):\n",
    "    return coord[0] + v[0], coord[1] + v[1]"
   ]
  },
  {
   "cell_type": "code",
   "execution_count": null,
   "metadata": {},
   "outputs": [],
   "source": [
    "v = (3, 1)\n",
    "coord = (0, 0)\n",
    "\n",
    "print(coord)\n",
    "for t in range(5):\n",
    "    coord = move(coord, v)    \n",
    "    print(coord)"
   ]
  },
  {
   "cell_type": "markdown",
   "metadata": {},
   "source": [
    "### Задачи:\n",
    "1. [Ход конем](https://repl.it/student/submissions/13562602)\n",
    "2. [Квадратные (и не только) уравнения](https://repl.it/student/submissions/13562603)"
   ]
  },
  {
   "cell_type": "markdown",
   "metadata": {},
   "source": [
    "## Области видимости и передача аргументов\n",
    "#### 1. Локальные и глобальные переменные"
   ]
  },
  {
   "cell_type": "code",
   "execution_count": null,
   "metadata": {},
   "outputs": [],
   "source": [
    "def print_arr(arr):\n",
    "    for e in arr:\n",
    "        print(e)\n",
    "        \n",
    "print_arr([1,2,3,4,5])"
   ]
  },
  {
   "cell_type": "code",
   "execution_count": null,
   "metadata": {},
   "outputs": [],
   "source": [
    "numbers = [1,2,3,4,5]\n",
    "\n",
    "print_arr(numbers)"
   ]
  },
  {
   "cell_type": "code",
   "execution_count": null,
   "metadata": {},
   "outputs": [],
   "source": [
    "def print_arr(arr):\n",
    "    for e in numbers:\n",
    "        print(e)\n",
    "        \n",
    "print_arr('абвгд')"
   ]
  },
  {
   "cell_type": "code",
   "execution_count": null,
   "metadata": {},
   "outputs": [],
   "source": [
    "print(arr)"
   ]
  },
  {
   "cell_type": "code",
   "execution_count": null,
   "metadata": {},
   "outputs": [],
   "source": [
    "PI = 3.14159\n",
    "\n",
    "def circle_lenght(r):\n",
    "    return 2 *  PI * r\n",
    "\n",
    "circle_lenght(5)"
   ]
  },
  {
   "cell_type": "markdown",
   "metadata": {},
   "source": [
    "#### 2. Осторожно с Глобальными"
   ]
  },
  {
   "cell_type": "code",
   "execution_count": null,
   "metadata": {},
   "outputs": [],
   "source": [
    "counter = 0\n",
    "\n",
    "def sheep_counter():\n",
    "    global counter\n",
    "    counter += 1\n",
    "    print(f'Вот {counter}-я овца пробежала')\n",
    "    \n",
    "for _ in range(10):\n",
    "    sheep_counter()"
   ]
  },
  {
   "cell_type": "markdown",
   "metadata": {},
   "source": [
    "#### 3. Аргументы функции - локальные переменные"
   ]
  },
  {
   "cell_type": "code",
   "execution_count": null,
   "metadata": {},
   "outputs": [],
   "source": [
    "def print_discount(discount):\n",
    "    print(f'Скидка составляет {discount}%')\n",
    "    discount = 10\n",
    "    print(f'Скидка составляет {discount}%')\n",
    "\n",
    "print_discount(30)"
   ]
  },
  {
   "cell_type": "code",
   "execution_count": null,
   "metadata": {},
   "outputs": [],
   "source": [
    "discount = 10\n",
    "\n",
    "def print_discount(discount):\n",
    "    print(f'Скидка составляет {discount}%')\n",
    "\n",
    "print_discount(30)"
   ]
  },
  {
   "cell_type": "markdown",
   "metadata": {},
   "source": [
    "#### 4. Изменение значения аргумента"
   ]
  },
  {
   "cell_type": "code",
   "execution_count": null,
   "metadata": {},
   "outputs": [],
   "source": [
    "def convert_to_squares(array):\n",
    "    for i in range(len(array)):\n",
    "        array[i] = array[i] ** 2\n",
    "\n",
    "\n",
    "list = [1, 2, 3, 4, 5, 6, 7, 8, 9]\n",
    "convert_to_squares(list)\n",
    "print(list)"
   ]
  },
  {
   "cell_type": "markdown",
   "metadata": {},
   "source": [
    "### Задачи:\n",
    "1. [Надоедливое интервью](https://repl.it/student/submissions/13562923)\n",
    "2. [Чеки](https://repl.it/student/submissions/13562922)\n",
    "3. [Транспонирование](https://repl.it/student/submissions/13562921)"
   ]
  },
  {
   "cell_type": "markdown",
   "metadata": {},
   "source": [
    "## Функции с переменным числом аргументов\n",
    "#### 1. Распаковка и запаковка"
   ]
  },
  {
   "cell_type": "code",
   "execution_count": null,
   "metadata": {},
   "outputs": [],
   "source": [
    "x, y = move(coord, v)\n",
    "print(x)\n",
    "print(y)"
   ]
  },
  {
   "cell_type": "markdown",
   "metadata": {},
   "source": [
    "__Есть возможность распаковать вложенные списки:__"
   ]
  },
  {
   "cell_type": "code",
   "execution_count": 10,
   "metadata": {},
   "outputs": [
    {
     "name": "stdout",
     "output_type": "stream",
     "text": [
      "1 2 3 4\n"
     ]
    }
   ],
   "source": [
    "a, (b, c), d = [1, [2, 3], 4]\n",
    "print(a, b, c, d)"
   ]
  },
  {
   "cell_type": "markdown",
   "metadata": {},
   "source": [
    "__Распаковка и запаковка в одном флаконе:__"
   ]
  },
  {
   "cell_type": "code",
   "execution_count": null,
   "metadata": {},
   "outputs": [],
   "source": [
    "a, b, *other = 'abcdefgh'\n",
    "print(a)\n",
    "print(b)\n",
    "print(other)"
   ]
  },
  {
   "cell_type": "code",
   "execution_count": null,
   "metadata": {},
   "outputs": [],
   "source": [
    "a, b, *other = 'abc'\n",
    "print(other)"
   ]
  },
  {
   "cell_type": "markdown",
   "metadata": {},
   "source": [
    "__Звездочка может быть только у одной переменной, но необязательно у последней:__"
   ]
  },
  {
   "cell_type": "code",
   "execution_count": null,
   "metadata": {},
   "outputs": [],
   "source": [
    "name, *no_matter, surname = ['Пабло', 'Диего', 'Хозе', 'Франциско де Паула', 'Хуан', 'Непомукено', 'Криспин', 'Криспиано де ла Сантисима', 'Тринидад', 'Руиз', 'и', 'Пикассо']\n",
    "print(name)\n",
    "print(surname)\n",
    "print(no_matter)"
   ]
  },
  {
   "cell_type": "markdown",
   "metadata": {},
   "source": [
    "__При множественном присваивании переменная со звездочкой получает список значений. А когда аргумент функции указан со звездочкой, он получает кортеж значений.__"
   ]
  },
  {
   "cell_type": "code",
   "execution_count": null,
   "metadata": {},
   "outputs": [],
   "source": [
    "def product(required, *other):\n",
    "    # print(other)\n",
    "    result = required\n",
    "    for value in other:\n",
    "        result *= value\n",
    "    return result\n",
    "\n",
    "product(1, 2, 3, 4)"
   ]
  },
  {
   "cell_type": "code",
   "execution_count": null,
   "metadata": {},
   "outputs": [],
   "source": [
    "product(*range(5))"
   ]
  },
  {
   "cell_type": "code",
   "execution_count": null,
   "metadata": {},
   "outputs": [],
   "source": [
    "product(*range(1, 3), *range(5, 8))"
   ]
  },
  {
   "cell_type": "markdown",
   "metadata": {},
   "source": [
    "#### 2. Виды аргументов\n",
    "##### Аргументы по умолчанию:"
   ]
  },
  {
   "cell_type": "code",
   "execution_count": null,
   "metadata": {},
   "outputs": [],
   "source": [
    "int('101')"
   ]
  },
  {
   "cell_type": "code",
   "execution_count": null,
   "metadata": {},
   "outputs": [],
   "source": [
    "int('101', 2)"
   ]
  },
  {
   "cell_type": "markdown",
   "metadata": {},
   "source": [
    "##### Именованные и позиционные аргументы:"
   ]
  },
  {
   "cell_type": "code",
   "execution_count": null,
   "metadata": {},
   "outputs": [],
   "source": [
    "def building_a_house(level=1, triang_roof=True, with_garden=True):\n",
    "    if triang_roof:\n",
    "        print('''   /\\\\\\n  /  \\\\\\n /____\\\\''')\n",
    "    else:\n",
    "         print(' __||__')\n",
    "    for i in range(level):\n",
    "        print(''' | __ |\\n | || |\\n |____|''')\n",
    "    if with_garden:\n",
    "        print('''********\\n ******''')\n",
    "\n",
    "building_a_house()"
   ]
  },
  {
   "cell_type": "code",
   "execution_count": null,
   "metadata": {},
   "outputs": [],
   "source": [
    "building_a_house(with_garden=False)"
   ]
  },
  {
   "cell_type": "markdown",
   "metadata": {},
   "source": [
    "#### 3. Произвольное число аргументов"
   ]
  },
  {
   "cell_type": "code",
   "execution_count": null,
   "metadata": {},
   "outputs": [],
   "source": [
    "def print_with_cut_line(*args, **kwargs):\n",
    "    print(*args, **kwargs)\n",
    "    print('-' * 10 + ' Cut there ' + '-' * 10)\n",
    "\n",
    "print_with_cut_line('Некоторый текст,\\n написанный здесь исключительно\\n         без какого-либо умысла')\n",
    "print_with_cut_line('В', 'данном', 'примере', 'видно,', 'что', 'функция', 'принимает', 'любые', 'аргумены', sep='\\n', end='!!!\\n')"
   ]
  },
  {
   "cell_type": "code",
   "execution_count": null,
   "metadata": {},
   "outputs": [],
   "source": [
    "print_with_cut_line('Но в некоторых случаях это плохой пример', ololo='ololo')"
   ]
  },
  {
   "cell_type": "markdown",
   "metadata": {},
   "source": [
    "### Задачи:\n",
    "1. [Матрица на любой вкус](https://repl.it/student/submissions/13567289)\n",
    "2. [Цезарь одобряет](https://repl.it/student/submissions/13567291)"
   ]
  },
  {
   "cell_type": "markdown",
   "metadata": {},
   "source": [
    "## Функции - тоже объекты\n",
    "#### 1. Функция как объект"
   ]
  },
  {
   "cell_type": "code",
   "execution_count": null,
   "metadata": {},
   "outputs": [],
   "source": [
    "напечатать = print\n",
    "\n",
    "напечатать(\"этот текст\")"
   ]
  },
  {
   "cell_type": "code",
   "execution_count": null,
   "metadata": {},
   "outputs": [],
   "source": [
    "def nop(*args, **kwargs):\n",
    "    pass\n",
    "\n",
    "print = nop\n",
    "\n",
    "print('some text')"
   ]
  },
  {
   "cell_type": "code",
   "execution_count": null,
   "metadata": {},
   "outputs": [],
   "source": [
    "del print\n",
    "\n",
    "print('some text again')"
   ]
  },
  {
   "cell_type": "markdown",
   "metadata": {},
   "source": [
    "#### 2. Функции высшего порядка\n",
    "\n",
    "Объект функции можно не только записать в переменную, но и передать в качестве аргумента в другую функцию и даже вернуть из функции.\n",
    "\n",
    "Функции, которые принимают или возвращают другие функции, называются __функциями высшего порядка__."
   ]
  },
  {
   "cell_type": "code",
   "execution_count": null,
   "metadata": {},
   "outputs": [],
   "source": [
    "words = 'возьмем небольшой набор слов и выберем из него только короткие слова, меньше шести букв'.split()\n",
    "\n",
    "def less_than_six(word):\n",
    "    return len(word) < 6\n",
    "    \n",
    "print(*filter(less_than_six, words))"
   ]
  },
  {
   "cell_type": "markdown",
   "metadata": {},
   "source": [
    "Функция filter возвращает специальный объект - __итератор:__"
   ]
  },
  {
   "cell_type": "code",
   "execution_count": null,
   "metadata": {},
   "outputs": [],
   "source": [
    "print(filter(less_than_six, words))"
   ]
  },
  {
   "cell_type": "code",
   "execution_count": null,
   "metadata": {},
   "outputs": [],
   "source": [
    "print(list(filter(less_than_six, words)))"
   ]
  },
  {
   "cell_type": "markdown",
   "metadata": {},
   "source": [
    "Ни к чему создавать отдельные функции, для использования один раз. Ведь есть lambda-функции:"
   ]
  },
  {
   "cell_type": "code",
   "execution_count": null,
   "metadata": {},
   "outputs": [],
   "source": [
    "print(*filter(lambda w: len(w) < 6, words))"
   ]
  },
  {
   "cell_type": "code",
   "execution_count": null,
   "metadata": {},
   "outputs": [],
   "source": [
    "print(*filter(lambda n: n % 3 == 0, range(50)))"
   ]
  },
  {
   "cell_type": "markdown",
   "metadata": {},
   "source": [
    "##### Функция map\n",
    "\n",
    "Функция map преобразует каждый элемент списка в соответствии с указанной функцией и создает итератор из преобразованных значений."
   ]
  },
  {
   "cell_type": "code",
   "execution_count": null,
   "metadata": {},
   "outputs": [],
   "source": [
    "list(map(lambda x: x ** 2, range(1, 10)))"
   ]
  },
  {
   "cell_type": "markdown",
   "metadata": {},
   "source": [
    "#### 3. Комбинирование функций как альтернатива списочным выражениям"
   ]
  },
  {
   "cell_type": "code",
   "execution_count": null,
   "metadata": {},
   "outputs": [],
   "source": [
    "words = 'возьмем похожий набор слов и выберем из него в этот раз только длинные слова, больше шести букв и напишем их в верхнем регистре'.split()\n",
    "\n",
    "list(map(lambda w: w.upper(), filter(lambda w: len(w) > 6, words)))"
   ]
  },
  {
   "cell_type": "markdown",
   "metadata": {},
   "source": [
    "##### Ту же задачу можно решить, используя уже знакомые list comprehension:"
   ]
  },
  {
   "cell_type": "code",
   "execution_count": null,
   "metadata": {},
   "outputs": [],
   "source": [
    "[word.upper() for word in words if len(word) > 6]"
   ]
  },
  {
   "cell_type": "markdown",
   "metadata": {},
   "source": [
    "##### Не обязательно создавать собственные функции:"
   ]
  },
  {
   "cell_type": "code",
   "execution_count": null,
   "metadata": {},
   "outputs": [],
   "source": [
    "list(map(lambda word: len(word), words))"
   ]
  },
  {
   "cell_type": "code",
   "execution_count": null,
   "metadata": {},
   "outputs": [],
   "source": [
    "list(map(len, words))"
   ]
  },
  {
   "cell_type": "code",
   "execution_count": null,
   "metadata": {},
   "outputs": [],
   "source": [
    "list(map(float, input().split()))"
   ]
  },
  {
   "cell_type": "markdown",
   "metadata": {},
   "source": [
    "### Задачи:\n",
    "1. [Функциональное комбо](https://repl.it/student/submissions/13567572)\n",
    "2. [Таблица ****ния](https://repl.it/student/submissions/13567576)"
   ]
  },
  {
   "cell_type": "markdown",
   "metadata": {},
   "source": [
    "### Доп.: Рекурсия"
   ]
  },
  {
   "cell_type": "code",
   "execution_count": null,
   "metadata": {},
   "outputs": [],
   "source": [
    "def factorial(number):\n",
    "    if number == 0:\n",
    "        return 1\n",
    "    return number * factorial(number - 1)"
   ]
  },
  {
   "cell_type": "code",
   "execution_count": null,
   "metadata": {},
   "outputs": [],
   "source": [
    "def gcd(a, b):  \n",
    "    return a if b == 0 else gcd(b, a % b) "
   ]
  },
  {
   "cell_type": "code",
   "execution_count": null,
   "metadata": {},
   "outputs": [],
   "source": [
    "def quick_pow(a, n):\n",
    "    if n == 0:\n",
    "        return 1\n",
    "    elif n % 2:\n",
    "        return quick_pow(a, n - 1) * a\n",
    "    else:\n",
    "        return quick_pow(a * a, n // 2)"
   ]
  },
  {
   "cell_type": "markdown",
   "metadata": {},
   "source": [
    "### Доп.: Декораторы"
   ]
  },
  {
   "cell_type": "code",
   "execution_count": null,
   "metadata": {},
   "outputs": [],
   "source": [
    "print_ = print\n",
    "\n",
    "\n",
    "def print_uppercase(*args):\n",
    "    print_(*map(str.upper, args))\n",
    "\n",
    "\n",
    "print = print_uppercase\n",
    "print('что-то мелким почерком')"
   ]
  },
  {
   "cell_type": "code",
   "execution_count": null,
   "metadata": {},
   "outputs": [],
   "source": [
    "def uppercased(old_func):\n",
    "    def new_func(*args, **kwargs):\n",
    "        args_upcased = [str(arg).upper() for arg in args]\n",
    "        old_func(*args_upcased, **kwargs)\n",
    "        \n",
    "    return new_func\n",
    "\n",
    "\n",
    "print = uppercased(print)"
   ]
  },
  {
   "cell_type": "code",
   "execution_count": null,
   "metadata": {},
   "outputs": [],
   "source": [
    "def logged(func):\n",
    "    count = 0\n",
    "    \n",
    "    def decorated_func(*args, **kwargs):\n",
    "        nonlocal count\n",
    "        count += 1\n",
    "        print(count, '>>', 'Arguments:', args, 'Named arguments:', kwargs)\n",
    "        result = func(*args, **kwargs)\n",
    "        print('--', 'Result:', result)\n",
    "        return result\n",
    "\n",
    "    return decorated_func\n",
    "\n",
    "@logged\n",
    "def building_a_house(level=1, triang_roof=True, with_garden=True):\n",
    "    if triang_roof:\n",
    "        print('''   /\\\\\\n  /  \\\\\\n /____\\\\''')\n",
    "    else:\n",
    "         print(' __||__')\n",
    "    for i in range(level):\n",
    "        print(''' | __ |\\n | || |\\n |____|''')\n",
    "    if with_garden:\n",
    "        print('''********\\n ******''')\n",
    "        \n",
    "building_a_house(2, False)"
   ]
  },
  {
   "cell_type": "code",
   "execution_count": null,
   "metadata": {},
   "outputs": [],
   "source": [
    "building_a_house(3, with_garden=False)"
   ]
  },
  {
   "cell_type": "markdown",
   "metadata": {},
   "source": [
    "### Задача 1: Пароль для фибоначчи\n",
    "Напишите декоратор check_password, который запрашивает пароль, прежде чем вызвать функцию и, если он неверный, возвращает None и печатает «В доступе отказано». Запарольте этим декоратором функцию вычисления числа Фибоначчи."
   ]
  },
  {
   "cell_type": "code",
   "execution_count": null,
   "metadata": {},
   "outputs": [],
   "source": [
    "def fib(n):\n",
    "    a, b = 1, 1\n",
    "    for _ in range(n - 2):\n",
    "        a, b = b, a + b\n",
    "    return b"
   ]
  },
  {
   "cell_type": "markdown",
   "metadata": {},
   "source": [
    "### Задача 2: Кэширование рекурсивного фибоначчи\n",
    "Напишите декоратор cached, который будет кэшировать результат вызова функции."
   ]
  },
  {
   "cell_type": "code",
   "execution_count": null,
   "metadata": {},
   "outputs": [],
   "source": [
    "def fib(n):\n",
    "    if n <= 2:\n",
    "        return 1\n",
    "    return fib(n - 1) + fib(n - 2)"
   ]
  }
 ],
 "metadata": {
  "kernelspec": {
   "display_name": "Python 3",
   "language": "python",
   "name": "python3"
  },
  "language_info": {
   "codemirror_mode": {
    "name": "ipython",
    "version": 3
   },
   "file_extension": ".py",
   "mimetype": "text/x-python",
   "name": "python",
   "nbconvert_exporter": "python",
   "pygments_lexer": "ipython3",
   "version": "3.7.7"
  }
 },
 "nbformat": 4,
 "nbformat_minor": 4
}
